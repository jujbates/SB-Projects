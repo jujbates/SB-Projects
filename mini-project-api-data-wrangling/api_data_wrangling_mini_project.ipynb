{
 "cells": [
  {
   "cell_type": "markdown",
   "metadata": {},
   "source": [
    "This exercise will require you to pull some data from the Qunadl API. Qaundl is currently the most widely used aggregator of financial market data."
   ]
  },
  {
   "cell_type": "markdown",
   "metadata": {},
   "source": [
    "As a first step, you will need to register a free account on the http://www.quandl.com website."
   ]
  },
  {
   "cell_type": "markdown",
   "metadata": {},
   "source": [
    "After you register, you will be provided with a unique API key, that you should store:"
   ]
  },
  {
   "cell_type": "code",
   "execution_count": 1,
   "metadata": {},
   "outputs": [],
   "source": [
    "# Store the API key as a string - according to PEP8, constants are always named in all upper case\n",
    "API_KEY = '3u_8MGazHVq8mg3Szkq_'"
   ]
  },
  {
   "cell_type": "markdown",
   "metadata": {},
   "source": [
    "Qaundl has a large number of data sources, but, unfortunately, most of them require a Premium subscription. Still, there are also a good number of free datasets."
   ]
  },
  {
   "cell_type": "markdown",
   "metadata": {},
   "source": [
    "For this mini project, we will focus on equities data from the Frankfurt Stock Exhange (FSE), which is available for free. We'll try and analyze the stock prices of a company called Carl Zeiss Meditec, which manufactures tools for eye examinations, as well as medical lasers for laser eye surgery: https://www.zeiss.com/meditec/int/home.html. The company is listed under the stock ticker AFX_X."
   ]
  },
  {
   "cell_type": "markdown",
   "metadata": {},
   "source": [
    "You can find the detailed Quandl API instructions here: https://docs.quandl.com/docs/time-series"
   ]
  },
  {
   "cell_type": "markdown",
   "metadata": {},
   "source": [
    "While there is a dedicated Python package for connecting to the Quandl API, we would prefer that you use the *requests* package, which can be easily downloaded using *pip* or *conda*. You can find the documentation for the package here: http://docs.python-requests.org/en/master/ "
   ]
  },
  {
   "cell_type": "markdown",
   "metadata": {},
   "source": [
    "Finally, apart from the *requests* package, you are encouraged to not use any third party Python packages, such as *pandas*, and instead focus on what's available in the Python Standard Library (the *collections* module might come in handy: https://pymotw.com/3/collections/ ).\n",
    "Also, since you won't have access to DataFrames, you are encouraged to us Python's native data structures - preferably dictionaries, though some questions can also be answered using lists.\n",
    "You can read more on these data structures here: https://docs.python.org/3/tutorial/datastructures.html"
   ]
  },
  {
   "cell_type": "markdown",
   "metadata": {},
   "source": [
    "Keep in mind that the JSON responses you will be getting from the API map almost one-to-one to Python's dictionaries. Unfortunately, they can be very nested, so make sure you read up on indexing dictionaries in the documentation provided above."
   ]
  },
  {
   "cell_type": "code",
   "execution_count": 2,
   "metadata": {},
   "outputs": [],
   "source": [
    "# First, import the relevant modules\n",
    "import requests\n",
    "import json\n"
   ]
  },
  {
   "cell_type": "code",
   "execution_count": 3,
   "metadata": {},
   "outputs": [
    {
     "data": {
      "text/plain": [
       "'{\"dataset\":{\"id\":10095370,\"dataset_code\":\"AFX_X\",\"database_code\":\"FSE\",\"name\":\"Carl Zeiss Meditec (AFX_X)\",\"description\":\"Stock Prices for Carl Zeiss Meditec (2020-07-08) from the Frankfurt Stock Exchange.\\\\u003cbr\\\\u003e\\\\u003cbr\\\\u003eTrading System: Xetra\\\\u003cbr\\\\u003e\\\\u003cbr\\\\u003eISIN: DE0005313704\",\"refreshed_at\":\"2020-07-22T22:16:17.429Z\",\"newest_available_date\":\"2020-07-22\",\"oldest_available_date\":\"2000-06-07\",\"column_names\":[\"Date\",\"Open\",\"High\",\"Low\",\"Close\",\"Change\",\"Traded Volume\",\"Turnover\",\"Last Price of the Day\",\"Daily Traded Units\",\"Daily Turnover\"],\"frequency\":\"daily\",\"type\":\"Time Series\",\"premium\":false,\"limit\":null,\"transform\":null,\"column_index\":null,\"start_date\":\"2020-07-22\",\"end_date\":\"2020-07-22\",\"data\":[[\"2020-07-22\",88.6,89.1,87.4,88.75,null,101234.0,8954258.2,null,null,null]],\"collapse\":null,\"order\":null,\"database_id\":6129}}'"
      ]
     },
     "execution_count": 3,
     "metadata": {},
     "output_type": "execute_result"
    }
   ],
   "source": [
    "# Now, call the Quandl API and pull out a small sample of the data (only one day) to get a glimpse\n",
    "# into the JSON structure that will be returned\n",
    "\n",
    "r = requests.get(\"https://www.quandl.com/api/v3/datasets/FSE/AFX_X?start_date=2020-07-22&api_key=\" + API_KEY)\n",
    "r.text"
   ]
  },
  {
   "cell_type": "code",
   "execution_count": 4,
   "metadata": {
    "scrolled": true
   },
   "outputs": [],
   "source": [
    "# Inspect the JSON structure of the object you created, and take note of how nested it is,\n",
    "# as well as the overall structure\n",
    "res = json.loads(r.text) \n",
    "# print(json.dumps(res, indent=4, sort_keys=True))\n"
   ]
  },
  {
   "cell_type": "markdown",
   "metadata": {},
   "source": [
    "These are your tasks for this mini project:\n",
    "\n",
    "1. Collect data from the Franfurt Stock Exchange, for the ticker AFX_X, for the whole year 2017 (keep in mind that the date format is YYYY-MM-DD).\n",
    "2. Convert the returned JSON object into a Python dictionary.\n",
    "3. Calculate what the highest and lowest opening prices were for the stock in this period.\n",
    "4. What was the largest change in any one day (based on High and Low price)?\n",
    "5. What was the largest change between any two days (based on Closing Price)?\n",
    "6. What was the average daily trading volume during this year?\n",
    "7. (Optional) What was the median trading volume during this year. (Note: you may need to implement your own function for calculating the median.)"
   ]
  },
  {
   "cell_type": "code",
   "execution_count": 5,
   "metadata": {
    "scrolled": true
   },
   "outputs": [],
   "source": [
    "# Collect data from the Franfurt Stock Exchange, for the ticker AFX_X, for the whole year 2017 (keep in mind that the date format is YYYY-MM-DD).\n",
    "r = requests.get(\"https://www.quandl.com/api/v3/datasets/FSE/AFX_X?start_date=2017-01-01&end_date=2017-12-31&api_key=\" + API_KEY)\n",
    "# r.text\n"
   ]
  },
  {
   "cell_type": "code",
   "execution_count": 6,
   "metadata": {},
   "outputs": [],
   "source": [
    "# Convert the returned JSON object into a Python dictionary.\n",
    "res = json.loads(r.text) \n",
    "# print(json.dumps(res, indent=4, sort_keys=True))\n"
   ]
  },
  {
   "cell_type": "code",
   "execution_count": 7,
   "metadata": {},
   "outputs": [
    {
     "name": "stdout",
     "output_type": "stream",
     "text": [
      "['Date', 'Open', 'High', 'Low', 'Close', 'Change', 'Traded Volume', 'Turnover', 'Last Price of the Day', 'Daily Traded Units', 'Daily Turnover']\n"
     ]
    }
   ],
   "source": [
    "columns = res['dataset']['column_names']\n",
    "print(columns)\n"
   ]
  },
  {
   "cell_type": "code",
   "execution_count": 8,
   "metadata": {
    "scrolled": true
   },
   "outputs": [],
   "source": [
    "data = res['dataset']['data']\n",
    "# print(json.dumps(data, indent=4, sort_keys=True))"
   ]
  },
  {
   "cell_type": "code",
   "execution_count": 9,
   "metadata": {},
   "outputs": [
    {
     "name": "stdout",
     "output_type": "stream",
     "text": [
      "Lowest Opening Prices: $34.00. \n",
      "Highest Opening Prices: $53.11.\n"
     ]
    }
   ],
   "source": [
    "# Calculate what the highest and lowest opening prices were for the stock in this period.\n",
    "min_open_price = data[0][1]\n",
    "max_open_price = data[0][1]\n",
    "for d in data[1:]:\n",
    "    if d[1] is not None:\n",
    "        if d[1] > max_open_price:\n",
    "            max_open_price = d[1]\n",
    "        elif d[1] < min_open_price:\n",
    "            min_open_price = d[1]\n",
    "# print(max_open_price)\n",
    "# print(min_open_price)\n",
    "print(\"Lowest Opening Prices: $%.2f. \\nHighest Opening Prices: $%.2f.\" % (min_open_price, max_open_price))"
   ]
  },
  {
   "cell_type": "code",
   "execution_count": 10,
   "metadata": {},
   "outputs": [
    {
     "name": "stdout",
     "output_type": "stream",
     "text": [
      "The largest change in any one day was $2.81 on 2017-05-11.\n"
     ]
    }
   ],
   "source": [
    "# What was the largest change in any one day (based on High and Low price)?\n",
    "largest_change_in_price = data[0][2] -  data[0][3]\n",
    "largest_change_in_price_date = data[0][0]\n",
    "for d in data[1:]:\n",
    "    if d[2] is not None and d[3] is not None:\n",
    "        change = d[2] -  d[3]\n",
    "        if change > largest_change_in_price:\n",
    "            largest_change_in_price = change\n",
    "            largest_change_in_price_date = d[0]\n",
    "    \n",
    "# print(largest_change_in_price)\n",
    "# print(largest_change_in_price_date)\n",
    "\n",
    "print(\"The largest change in any one day was $%.2f on %s.\" % (largest_change_in_price, largest_change_in_price_date))"
   ]
  },
  {
   "cell_type": "code",
   "execution_count": 11,
   "metadata": {},
   "outputs": [
    {
     "name": "stdout",
     "output_type": "stream",
     "text": [
      "2.559999999999995\n",
      "2017-08-08\n",
      "2017-08-09\n",
      "The largest change between two days is $2.56 from 2017-08-08 to 2017-08-09.\n"
     ]
    }
   ],
   "source": [
    "# What was the largest change between any two days (based on Closing Price)?\n",
    "largest_change_in_2_day_price = data[0][4] -  data[1][4]\n",
    "largest_change_in_2_day_price_date_1 = data[0][0]\n",
    "largest_change_in_2_day_price_date_2 = data[1][0]\n",
    "for i, d in enumerate(data[1:-1]):\n",
    "#     print(data[i][0], '\\t', data[i+1][0], '\\t', data[i+1][4], '\\t',  data[i][4], '\\t', data[i+1][4] - data[i][4])\n",
    "    change = data[i+1][4] - data[i][4]\n",
    "    if change > largest_change_in_2_day_price:\n",
    "        largest_change_in_2_day_price = change\n",
    "        largest_change_in_2_day_price_date_1 = data[i+1][0]\n",
    "        largest_change_in_2_day_price_date_2 = data[i][0]\n",
    "    \n",
    "print(largest_change_in_2_day_price)\n",
    "print(largest_change_in_2_day_price_date_1)\n",
    "print(largest_change_in_2_day_price_date_2)\n",
    "\n",
    "print(\"The largest change between two days is $%.2f from %s to %s.\" % (largest_change_in_2_day_price, largest_change_in_2_day_price_date_1, largest_change_in_2_day_price_date_2))"
   ]
  },
  {
   "cell_type": "code",
   "execution_count": 12,
   "metadata": {},
   "outputs": [
    {
     "name": "stdout",
     "output_type": "stream",
     "text": [
      "89124.33725490196\n",
      "The average daily trading volume is $89124.34 \n"
     ]
    }
   ],
   "source": [
    "# What was the average daily trading volume during this year?\n",
    "count_volumes = data[0][6]\n",
    "open_days = 1\n",
    "for d in data[1:]:\n",
    "    count_volumes = count_volumes + d[6]\n",
    "    open_days = open_days + 1\n",
    "average_volumes = count_volumes / open_days\n",
    "print(average_volumes)\n",
    "\n",
    "print(\"The average daily trading volume is $%.2f \" % (average_volumes))"
   ]
  },
  {
   "cell_type": "code",
   "execution_count": 13,
   "metadata": {},
   "outputs": [
    {
     "name": "stdout",
     "output_type": "stream",
     "text": [
      "135538.5\n",
      "The median trading volume during this year was $135538.50 \n"
     ]
    }
   ],
   "source": [
    "# 7. (Optional) What was the median trading volume during this year. (Note: you may need to implement your own function for calculating the median.)\n",
    "half_1 = int((open_days/2)-1)\n",
    "half_2 = int(open_days/2)\n",
    "median_volumns = (data[half_1][6] + data[half_2][6] )/2\n",
    "print(median_volumns)\n",
    "\n",
    "print(\"The median trading volume during this year was $%.2f \" % (median_volumns))\n"
   ]
  },
  {
   "cell_type": "markdown",
   "metadata": {},
   "source": [
    "These are your tasks for this mini project:\n",
    "\n",
    "1. Collect data from the Franfurt Stock Exchange, for the ticker AFX_X, for the whole year 2017 (keep in mind that the date format is YYYY-MM-DD).\n",
    "2. Convert the returned JSON object into a Python dictionary.\n",
    "3. Calculate what the highest and lowest opening prices were for the stock in this period.\n",
    "4. What was the largest change in any one day (based on High and Low price)?\n",
    "5. What was the largest change between any two days (based on Closing Price)?\n",
    "6. What was the average daily trading volume during this year?\n",
    "7. (Optional) What was the median trading volume during this year. (Note: you may need to implement your own function for calculating the median.)"
   ]
  },
  {
   "cell_type": "code",
   "execution_count": 14,
   "metadata": {},
   "outputs": [
    {
     "name": "stdout",
     "output_type": "stream",
     "text": [
      "Lowest Opening Prices: $34.00. \n",
      "Highest Opening Prices: $53.11.\n",
      "The largest change in any one day was $2.81 on 2017-05-11.\n",
      "The largest change between two days is $2.56 from 2017-08-08 to 2017-08-09.\n",
      "The average daily trading volume is $89124.34 \n",
      "The median trading volume during this year was $135538.50 \n"
     ]
    }
   ],
   "source": [
    "print(\"Lowest Opening Prices: $%.2f. \\nHighest Opening Prices: $%.2f.\" % (min_open_price, max_open_price))\n",
    "print(\"The largest change in any one day was $%.2f on %s.\" % (largest_change_in_price, largest_change_in_price_date))\n",
    "print(\"The largest change between two days is $%.2f from %s to %s.\" % (largest_change_in_2_day_price, largest_change_in_2_day_price_date_1, largest_change_in_2_day_price_date_2))\n",
    "print(\"The average daily trading volume is $%.2f \" % (average_volumes))\n",
    "print(\"The median trading volume during this year was $%.2f \" % (median_volumns))"
   ]
  },
  {
   "cell_type": "code",
   "execution_count": null,
   "metadata": {},
   "outputs": [],
   "source": []
  }
 ],
 "metadata": {
  "kernelspec": {
   "display_name": "api_sb_mini_project",
   "language": "python",
   "name": "api_sb_mini_project"
  },
  "language_info": {
   "codemirror_mode": {
    "name": "ipython",
    "version": 3
   },
   "file_extension": ".py",
   "mimetype": "text/x-python",
   "name": "python",
   "nbconvert_exporter": "python",
   "pygments_lexer": "ipython3",
   "version": "3.6.10"
  }
 },
 "nbformat": 4,
 "nbformat_minor": 2
}
